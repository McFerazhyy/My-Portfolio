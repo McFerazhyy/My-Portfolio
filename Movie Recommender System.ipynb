{
 "cells": [
  {
   "cell_type": "markdown",
   "id": "891e3e9e",
   "metadata": {},
   "source": [
    "## This is how to create a movie recommender system using collaborative filtering. In the project, we will use the \"MovieLens Dataset\" as a case study "
   ]
  },
  {
   "cell_type": "markdown",
   "id": "f87e70ab",
   "metadata": {},
   "source": [
    "### - Import the necessary libraries for this project"
   ]
  },
  {
   "cell_type": "code",
   "execution_count": 1,
   "id": "9cbeb24c",
   "metadata": {},
   "outputs": [],
   "source": [
    "import pandas as pd\n",
    "import numpy as np"
   ]
  },
  {
   "cell_type": "code",
   "execution_count": 3,
   "id": "48c76722",
   "metadata": {},
   "outputs": [],
   "source": [
    "from surprise import Dataset, Reader\n",
    "from surprise.model_selection import train_test_split\n",
    "from surprise import KNNBasic, accuracy"
   ]
  },
  {
   "cell_type": "markdown",
   "id": "31911bef",
   "metadata": {},
   "source": [
    "### - Load the \"MovieLens Dataset\" into two dataframes \"data\" & \"ratings\" respectively"
   ]
  },
  {
   "cell_type": "code",
   "execution_count": 11,
   "id": "4d1c1071",
   "metadata": {},
   "outputs": [],
   "source": [
    "data = pd.read_csv('C:\\\\Users\\\\Feranmi Favour\\\\Desktop\\\\Data Analysis & Science\\\\My Portfolio\\\\ml-latest-small\\\\movies.csv')\n",
    "ratings = pd.read_csv('C:\\\\Users\\\\Feranmi Favour\\\\Desktop\\\\Data Analysis & Science\\\\My Portfolio\\\\ml-latest-small\\\\ratings.csv')\n"
   ]
  },
  {
   "cell_type": "markdown",
   "id": "461eca63",
   "metadata": {},
   "source": [
    "### - Obtain information about the dataset"
   ]
  },
  {
   "cell_type": "code",
   "execution_count": 14,
   "id": "f7122b53",
   "metadata": {},
   "outputs": [
    {
     "name": "stdout",
     "output_type": "stream",
     "text": [
      "<class 'pandas.core.frame.DataFrame'>\n",
      "RangeIndex: 9742 entries, 0 to 9741\n",
      "Data columns (total 3 columns):\n",
      " #   Column   Non-Null Count  Dtype \n",
      "---  ------   --------------  ----- \n",
      " 0   movieId  9742 non-null   int64 \n",
      " 1   title    9742 non-null   object\n",
      " 2   genres   9742 non-null   object\n",
      "dtypes: int64(1), object(2)\n",
      "memory usage: 228.5+ KB\n"
     ]
    }
   ],
   "source": [
    "data.info()\n",
    "# data has 3 columns and 9742 entries with no empty values"
   ]
  },
  {
   "cell_type": "code",
   "execution_count": 16,
   "id": "dfa8cf69",
   "metadata": {},
   "outputs": [
    {
     "name": "stdout",
     "output_type": "stream",
     "text": [
      "<class 'pandas.core.frame.DataFrame'>\n",
      "RangeIndex: 100836 entries, 0 to 100835\n",
      "Data columns (total 4 columns):\n",
      " #   Column     Non-Null Count   Dtype  \n",
      "---  ------     --------------   -----  \n",
      " 0   userId     100836 non-null  int64  \n",
      " 1   movieId    100836 non-null  int64  \n",
      " 2   rating     100836 non-null  float64\n",
      " 3   timestamp  100836 non-null  int64  \n",
      "dtypes: float64(1), int64(3)\n",
      "memory usage: 3.1 MB\n"
     ]
    }
   ],
   "source": [
    "ratings.info()\n",
    "# ratings has 4 columns and 100836 entries with no empty values"
   ]
  },
  {
   "cell_type": "markdown",
   "id": "50592ab6",
   "metadata": {},
   "source": [
    "### - Create a Surprise Reader object"
   ]
  },
  {
   "cell_type": "code",
   "execution_count": 12,
   "id": "df679530",
   "metadata": {},
   "outputs": [],
   "source": [
    "reader = Reader(rating_scale=(1, 5))"
   ]
  },
  {
   "cell_type": "markdown",
   "id": "51a17418",
   "metadata": {},
   "source": [
    "### - Load the data into the Surprise Dataset"
   ]
  },
  {
   "cell_type": "code",
   "execution_count": 17,
   "id": "546cb631",
   "metadata": {},
   "outputs": [],
   "source": [
    "data = Dataset.load_from_df(ratings[['userId', 'movieId', 'rating']], reader)"
   ]
  },
  {
   "cell_type": "markdown",
   "id": "e1173686",
   "metadata": {},
   "source": [
    "### - Split the data into training set and testing set"
   ]
  },
  {
   "cell_type": "code",
   "execution_count": 18,
   "id": "de82edaf",
   "metadata": {},
   "outputs": [],
   "source": [
    "trainset, testset = train_test_split(data, test_size=0.2, random_state=42)"
   ]
  },
  {
   "cell_type": "markdown",
   "id": "3ff7b8db",
   "metadata": {},
   "source": [
    "### - In this project, we'll use the K-Nearest Neighbors (KNN) collaborative filtering algorithm"
   ]
  },
  {
   "cell_type": "markdown",
   "id": "03f96ea6",
   "metadata": {},
   "source": [
    "#### - Create a KNNBasic model"
   ]
  },
  {
   "cell_type": "code",
   "execution_count": 19,
   "id": "c51ab4e0",
   "metadata": {},
   "outputs": [],
   "source": [
    "model = KNNBasic(sim_options={'user_based': True})"
   ]
  },
  {
   "cell_type": "markdown",
   "id": "65436f4f",
   "metadata": {},
   "source": [
    "#### - Fit the model on the training data"
   ]
  },
  {
   "cell_type": "code",
   "execution_count": 20,
   "id": "590d70b9",
   "metadata": {},
   "outputs": [
    {
     "name": "stdout",
     "output_type": "stream",
     "text": [
      "Computing the msd similarity matrix...\n",
      "Done computing similarity matrix.\n"
     ]
    },
    {
     "data": {
      "text/plain": [
       "<surprise.prediction_algorithms.knns.KNNBasic at 0x22222533210>"
      ]
     },
     "execution_count": 20,
     "metadata": {},
     "output_type": "execute_result"
    }
   ],
   "source": [
    "model.fit(trainset)"
   ]
  },
  {
   "cell_type": "markdown",
   "id": "721fca84",
   "metadata": {},
   "source": [
    "#### - To get the top (N) recommendations for a specific user"
   ]
  },
  {
   "cell_type": "code",
   "execution_count": 24,
   "id": "145bcbd7",
   "metadata": {},
   "outputs": [],
   "source": [
    "user_id = 1  \n",
    "# You can always change this to the specific user ID you want to recommend movies for"
   ]
  },
  {
   "cell_type": "code",
   "execution_count": 26,
   "id": "277a1e46",
   "metadata": {},
   "outputs": [],
   "source": [
    "top_n = 5  \n",
    "# Input the number of recommendations you want for the user"
   ]
  },
  {
   "cell_type": "markdown",
   "id": "6013a53d",
   "metadata": {},
   "source": [
    "#### - To get the list of movies the user has already rated"
   ]
  },
  {
   "cell_type": "code",
   "execution_count": 27,
   "id": "da29f7e1",
   "metadata": {},
   "outputs": [],
   "source": [
    "rated_movies = ratings[ratings['userId'] == user_id]['movieId'].tolist()"
   ]
  },
  {
   "cell_type": "markdown",
   "id": "b49aeaef",
   "metadata": {},
   "source": [
    "#### - To generate recommendations for the specific user"
   ]
  },
  {
   "cell_type": "code",
   "execution_count": 28,
   "id": "cf658d66",
   "metadata": {},
   "outputs": [],
   "source": [
    "recommendations = []\n",
    "for movie_id in trainset.all_items():\n",
    "    if movie_id not in rated_movies:\n",
    "        prediction = model.predict(user_id, movie_id)\n",
    "        recommendations.append((movie_id, prediction.est))"
   ]
  },
  {
   "cell_type": "markdown",
   "id": "88b4aa4c",
   "metadata": {},
   "source": [
    "#### - To sort the recommendations by predicted rating in descending order"
   ]
  },
  {
   "cell_type": "code",
   "execution_count": 29,
   "id": "1a05a3fc",
   "metadata": {},
   "outputs": [],
   "source": [
    "recommendations.sort(key=lambda x: x[1], reverse=True)"
   ]
  },
  {
   "cell_type": "markdown",
   "id": "e9431fbb",
   "metadata": {},
   "source": [
    "#### - To get the top (N) recommendations"
   ]
  },
  {
   "cell_type": "code",
   "execution_count": 30,
   "id": "1806ce51",
   "metadata": {},
   "outputs": [],
   "source": [
    "top_recommendations = recommendations[:top_n]"
   ]
  },
  {
   "cell_type": "markdown",
   "id": "47302e2c",
   "metadata": {},
   "source": [
    "#### - To display the top (N) recommended movies"
   ]
  },
  {
   "cell_type": "code",
   "execution_count": 34,
   "id": "276c8325",
   "metadata": {},
   "outputs": [
    {
     "name": "stdout",
     "output_type": "stream",
     "text": [
      "Top 5 Recommendations for User 1:\n",
      "1. 99\n",
      "2. 148\n",
      "3. 467\n",
      "4. 495\n",
      "5. 506\n"
     ]
    }
   ],
   "source": [
    "recommended_movie_ids = [movie[0] for movie in top_recommendations]\n",
    "recommended_movies = data.df[data.df['movieId'].isin(recommended_movie_ids)]['movieId'].unique()\n",
    "print(\"Top {} Recommendations for User {}:\".format(top_n, user_id))\n",
    "for i, movie in enumerate(recommended_movies, 1):\n",
    "    print(\"{}. {}\".format(i, movie))"
   ]
  },
  {
   "cell_type": "markdown",
   "id": "551ef114",
   "metadata": {},
   "source": [
    "## This will provide you with the top N movie recommendations for the specified user based on collaborative filtering. \n",
    "## You can adjust the \"user_id\" and \"top_n\" values to get recommendations for different users or a different number of recommendations."
   ]
  },
  {
   "cell_type": "markdown",
   "id": "63a42853",
   "metadata": {},
   "source": [
    "# Thank you!"
   ]
  },
  {
   "cell_type": "code",
   "execution_count": null,
   "id": "e5644e4a",
   "metadata": {},
   "outputs": [],
   "source": []
  }
 ],
 "metadata": {
  "kernelspec": {
   "display_name": "Python 3 (ipykernel)",
   "language": "python",
   "name": "python3"
  },
  "language_info": {
   "codemirror_mode": {
    "name": "ipython",
    "version": 3
   },
   "file_extension": ".py",
   "mimetype": "text/x-python",
   "name": "python",
   "nbconvert_exporter": "python",
   "pygments_lexer": "ipython3",
   "version": "3.11.4"
  }
 },
 "nbformat": 4,
 "nbformat_minor": 5
}
