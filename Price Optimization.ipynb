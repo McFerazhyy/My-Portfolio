{
 "cells": [
  {
   "cell_type": "markdown",
   "id": "46842147",
   "metadata": {},
   "source": [
    "## In this program, we want to perform price optimization based on historical data."
   ]
  },
  {
   "cell_type": "markdown",
   "id": "daed7f14",
   "metadata": {},
   "source": [
    "### - Import the neccessary python libraries for this project"
   ]
  },
  {
   "cell_type": "code",
   "execution_count": 1,
   "id": "285820a8",
   "metadata": {},
   "outputs": [],
   "source": [
    "import pandas as pd\n",
    "import numpy as np\n",
    "from scipy.optimize import minimize"
   ]
  },
  {
   "cell_type": "markdown",
   "id": "4bc61000",
   "metadata": {},
   "source": [
    "### - Import the historical sales and pricing data "
   ]
  },
  {
   "cell_type": "code",
   "execution_count": 2,
   "id": "dc28198f",
   "metadata": {},
   "outputs": [],
   "source": [
    "# This is a generated dataset using the NUMPY & PANDAS python libraries\n",
    "data = pd.read_csv('historical_data.csv')"
   ]
  },
  {
   "cell_type": "markdown",
   "id": "7a40bba5",
   "metadata": {},
   "source": [
    "### - To get information about the dataset"
   ]
  },
  {
   "cell_type": "code",
   "execution_count": 4,
   "id": "26c7eb0d",
   "metadata": {},
   "outputs": [
    {
     "name": "stdout",
     "output_type": "stream",
     "text": [
      "<class 'pandas.core.frame.DataFrame'>\n",
      "RangeIndex: 100 entries, 0 to 99\n",
      "Data columns (total 5 columns):\n",
      " #   Column         Non-Null Count  Dtype  \n",
      "---  ------         --------------  -----  \n",
      " 0   Product_ID     100 non-null    object \n",
      " 1   Price          100 non-null    float64\n",
      " 2   Quantity_Sold  100 non-null    int64  \n",
      " 3   Min_Price      100 non-null    float64\n",
      " 4   Max_Price      100 non-null    float64\n",
      "dtypes: float64(3), int64(1), object(1)\n",
      "memory usage: 4.0+ KB\n"
     ]
    }
   ],
   "source": [
    "data.info()\n",
    "# The dataset has 5 columns and 100 entries with no empty entries"
   ]
  },
  {
   "cell_type": "code",
   "execution_count": 5,
   "id": "059b87d0",
   "metadata": {},
   "outputs": [
    {
     "data": {
      "text/html": [
       "<div>\n",
       "<style scoped>\n",
       "    .dataframe tbody tr th:only-of-type {\n",
       "        vertical-align: middle;\n",
       "    }\n",
       "\n",
       "    .dataframe tbody tr th {\n",
       "        vertical-align: top;\n",
       "    }\n",
       "\n",
       "    .dataframe thead th {\n",
       "        text-align: right;\n",
       "    }\n",
       "</style>\n",
       "<table border=\"1\" class=\"dataframe\">\n",
       "  <thead>\n",
       "    <tr style=\"text-align: right;\">\n",
       "      <th></th>\n",
       "      <th>Product_ID</th>\n",
       "      <th>Price</th>\n",
       "      <th>Quantity_Sold</th>\n",
       "      <th>Min_Price</th>\n",
       "      <th>Max_Price</th>\n",
       "    </tr>\n",
       "  </thead>\n",
       "  <tbody>\n",
       "    <tr>\n",
       "      <th>0</th>\n",
       "      <td>Product_1</td>\n",
       "      <td>59.393215</td>\n",
       "      <td>3</td>\n",
       "      <td>5.175711</td>\n",
       "      <td>99.721107</td>\n",
       "    </tr>\n",
       "    <tr>\n",
       "      <th>1</th>\n",
       "      <td>Product_2</td>\n",
       "      <td>74.367043</td>\n",
       "      <td>4</td>\n",
       "      <td>10.399671</td>\n",
       "      <td>121.048712</td>\n",
       "    </tr>\n",
       "    <tr>\n",
       "      <th>2</th>\n",
       "      <td>Product_3</td>\n",
       "      <td>64.248704</td>\n",
       "      <td>95</td>\n",
       "      <td>15.949858</td>\n",
       "      <td>84.476869</td>\n",
       "    </tr>\n",
       "    <tr>\n",
       "      <th>3</th>\n",
       "      <td>Product_4</td>\n",
       "      <td>59.039486</td>\n",
       "      <td>99</td>\n",
       "      <td>7.574445</td>\n",
       "      <td>113.993932</td>\n",
       "    </tr>\n",
       "    <tr>\n",
       "      <th>4</th>\n",
       "      <td>Product_5</td>\n",
       "      <td>48.128932</td>\n",
       "      <td>14</td>\n",
       "      <td>12.815549</td>\n",
       "      <td>148.424660</td>\n",
       "    </tr>\n",
       "    <tr>\n",
       "      <th>5</th>\n",
       "      <td>Product_6</td>\n",
       "      <td>68.130470</td>\n",
       "      <td>41</td>\n",
       "      <td>5.815070</td>\n",
       "      <td>141.355367</td>\n",
       "    </tr>\n",
       "    <tr>\n",
       "      <th>6</th>\n",
       "      <td>Product_7</td>\n",
       "      <td>49.382849</td>\n",
       "      <td>73</td>\n",
       "      <td>7.999948</td>\n",
       "      <td>103.671127</td>\n",
       "    </tr>\n",
       "    <tr>\n",
       "      <th>7</th>\n",
       "      <td>Product_8</td>\n",
       "      <td>90.259570</td>\n",
       "      <td>20</td>\n",
       "      <td>5.277827</td>\n",
       "      <td>147.309911</td>\n",
       "    </tr>\n",
       "    <tr>\n",
       "      <th>8</th>\n",
       "      <td>Product_9</td>\n",
       "      <td>96.729648</td>\n",
       "      <td>96</td>\n",
       "      <td>16.905466</td>\n",
       "      <td>96.219114</td>\n",
       "    </tr>\n",
       "    <tr>\n",
       "      <th>9</th>\n",
       "      <td>Product_10</td>\n",
       "      <td>44.509737</td>\n",
       "      <td>73</td>\n",
       "      <td>8.358870</td>\n",
       "      <td>146.452318</td>\n",
       "    </tr>\n",
       "  </tbody>\n",
       "</table>\n",
       "</div>"
      ],
      "text/plain": [
       "   Product_ID      Price  Quantity_Sold  Min_Price   Max_Price\n",
       "0   Product_1  59.393215              3   5.175711   99.721107\n",
       "1   Product_2  74.367043              4  10.399671  121.048712\n",
       "2   Product_3  64.248704             95  15.949858   84.476869\n",
       "3   Product_4  59.039486             99   7.574445  113.993932\n",
       "4   Product_5  48.128932             14  12.815549  148.424660\n",
       "5   Product_6  68.130470             41   5.815070  141.355367\n",
       "6   Product_7  49.382849             73   7.999948  103.671127\n",
       "7   Product_8  90.259570             20   5.277827  147.309911\n",
       "8   Product_9  96.729648             96  16.905466   96.219114\n",
       "9  Product_10  44.509737             73   8.358870  146.452318"
      ]
     },
     "execution_count": 5,
     "metadata": {},
     "output_type": "execute_result"
    }
   ],
   "source": [
    "data.head(10)"
   ]
  },
  {
   "cell_type": "markdown",
   "id": "8045c702",
   "metadata": {},
   "source": [
    "### - In this project, we'll use a simple linear demand curve to estimate the revenue"
   ]
  },
  {
   "cell_type": "code",
   "execution_count": 6,
   "id": "aa6d10c0",
   "metadata": {},
   "outputs": [],
   "source": [
    "def revenue(prices):\n",
    "    return -np.sum(prices * data['Quantity_Sold'])"
   ]
  },
  {
   "cell_type": "markdown",
   "id": "be869ab9",
   "metadata": {},
   "source": [
    "### - To set the price bounds for each product, we have to get the minimum and maximum price per product"
   ]
  },
  {
   "cell_type": "code",
   "execution_count": 7,
   "id": "6c1c6bd9",
   "metadata": {},
   "outputs": [],
   "source": [
    "price_bounds = [(min_price, max_price) for min_price, max_price in zip(data['Min_Price'], data['Max_Price'])]"
   ]
  },
  {
   "cell_type": "markdown",
   "id": "b1ecb80a",
   "metadata": {},
   "source": [
    "### - To find the optimal prices that maximize revenue while satisfying the price bounds"
   ]
  },
  {
   "cell_type": "code",
   "execution_count": 10,
   "id": "31ef9bca",
   "metadata": {},
   "outputs": [],
   "source": [
    "initial_prices = data['Price'].values\n",
    "result = minimize(revenue, initial_prices, bounds=price_bounds)\n",
    "\n",
    "# extract the optimized prices\n",
    "optimized_prices = result.x"
   ]
  },
  {
   "cell_type": "markdown",
   "id": "da4b80f8",
   "metadata": {},
   "source": [
    "### - To update the product prices according to the optimized prices"
   ]
  },
  {
   "cell_type": "code",
   "execution_count": 11,
   "id": "373f5cec",
   "metadata": {},
   "outputs": [],
   "source": [
    "data['Optimized_Price'] = optimized_prices"
   ]
  },
  {
   "cell_type": "markdown",
   "id": "0405b8c7",
   "metadata": {},
   "source": [
    "### - To update your file, you have to save the data as a new csv file"
   ]
  },
  {
   "cell_type": "code",
   "execution_count": 12,
   "id": "a5496ff4",
   "metadata": {},
   "outputs": [],
   "source": [
    "data.to_csv('optimized_data.csv', index=False)"
   ]
  },
  {
   "cell_type": "code",
   "execution_count": 13,
   "id": "f8f430fa",
   "metadata": {},
   "outputs": [],
   "source": [
    "Optimized_Data = pd.read_csv('optimized_data.csv')"
   ]
  },
  {
   "cell_type": "code",
   "execution_count": 16,
   "id": "4523562b",
   "metadata": {},
   "outputs": [
    {
     "data": {
      "text/html": [
       "<div>\n",
       "<style scoped>\n",
       "    .dataframe tbody tr th:only-of-type {\n",
       "        vertical-align: middle;\n",
       "    }\n",
       "\n",
       "    .dataframe tbody tr th {\n",
       "        vertical-align: top;\n",
       "    }\n",
       "\n",
       "    .dataframe thead th {\n",
       "        text-align: right;\n",
       "    }\n",
       "</style>\n",
       "<table border=\"1\" class=\"dataframe\">\n",
       "  <thead>\n",
       "    <tr style=\"text-align: right;\">\n",
       "      <th></th>\n",
       "      <th>Product_ID</th>\n",
       "      <th>Price</th>\n",
       "      <th>Quantity_Sold</th>\n",
       "      <th>Min_Price</th>\n",
       "      <th>Max_Price</th>\n",
       "      <th>Optimized_Price</th>\n",
       "    </tr>\n",
       "  </thead>\n",
       "  <tbody>\n",
       "    <tr>\n",
       "      <th>0</th>\n",
       "      <td>Product_1</td>\n",
       "      <td>59.393215</td>\n",
       "      <td>3</td>\n",
       "      <td>5.175711</td>\n",
       "      <td>99.721107</td>\n",
       "      <td>99.721107</td>\n",
       "    </tr>\n",
       "    <tr>\n",
       "      <th>1</th>\n",
       "      <td>Product_2</td>\n",
       "      <td>74.367043</td>\n",
       "      <td>4</td>\n",
       "      <td>10.399671</td>\n",
       "      <td>121.048712</td>\n",
       "      <td>121.048712</td>\n",
       "    </tr>\n",
       "    <tr>\n",
       "      <th>2</th>\n",
       "      <td>Product_3</td>\n",
       "      <td>64.248704</td>\n",
       "      <td>95</td>\n",
       "      <td>15.949858</td>\n",
       "      <td>84.476869</td>\n",
       "      <td>84.476869</td>\n",
       "    </tr>\n",
       "    <tr>\n",
       "      <th>3</th>\n",
       "      <td>Product_4</td>\n",
       "      <td>59.039486</td>\n",
       "      <td>99</td>\n",
       "      <td>7.574445</td>\n",
       "      <td>113.993932</td>\n",
       "      <td>113.993932</td>\n",
       "    </tr>\n",
       "    <tr>\n",
       "      <th>4</th>\n",
       "      <td>Product_5</td>\n",
       "      <td>48.128932</td>\n",
       "      <td>14</td>\n",
       "      <td>12.815549</td>\n",
       "      <td>148.424660</td>\n",
       "      <td>148.424660</td>\n",
       "    </tr>\n",
       "    <tr>\n",
       "      <th>...</th>\n",
       "      <td>...</td>\n",
       "      <td>...</td>\n",
       "      <td>...</td>\n",
       "      <td>...</td>\n",
       "      <td>...</td>\n",
       "      <td>...</td>\n",
       "    </tr>\n",
       "    <tr>\n",
       "      <th>95</th>\n",
       "      <td>Product_96</td>\n",
       "      <td>26.487223</td>\n",
       "      <td>4</td>\n",
       "      <td>6.504409</td>\n",
       "      <td>143.278877</td>\n",
       "      <td>143.278877</td>\n",
       "    </tr>\n",
       "    <tr>\n",
       "      <th>96</th>\n",
       "      <td>Product_97</td>\n",
       "      <td>62.786164</td>\n",
       "      <td>32</td>\n",
       "      <td>5.246444</td>\n",
       "      <td>118.066417</td>\n",
       "      <td>118.066417</td>\n",
       "    </tr>\n",
       "    <tr>\n",
       "      <th>97</th>\n",
       "      <td>Product_98</td>\n",
       "      <td>11.809679</td>\n",
       "      <td>10</td>\n",
       "      <td>18.942940</td>\n",
       "      <td>111.983800</td>\n",
       "      <td>111.983800</td>\n",
       "    </tr>\n",
       "    <tr>\n",
       "      <th>98</th>\n",
       "      <td>Product_99</td>\n",
       "      <td>84.604603</td>\n",
       "      <td>11</td>\n",
       "      <td>15.048748</td>\n",
       "      <td>141.742899</td>\n",
       "      <td>141.742899</td>\n",
       "    </tr>\n",
       "    <tr>\n",
       "      <th>99</th>\n",
       "      <td>Product_100</td>\n",
       "      <td>10.422593</td>\n",
       "      <td>28</td>\n",
       "      <td>16.777294</td>\n",
       "      <td>112.102277</td>\n",
       "      <td>112.102277</td>\n",
       "    </tr>\n",
       "  </tbody>\n",
       "</table>\n",
       "<p>100 rows × 6 columns</p>\n",
       "</div>"
      ],
      "text/plain": [
       "     Product_ID      Price  Quantity_Sold  Min_Price   Max_Price  \\\n",
       "0     Product_1  59.393215              3   5.175711   99.721107   \n",
       "1     Product_2  74.367043              4  10.399671  121.048712   \n",
       "2     Product_3  64.248704             95  15.949858   84.476869   \n",
       "3     Product_4  59.039486             99   7.574445  113.993932   \n",
       "4     Product_5  48.128932             14  12.815549  148.424660   \n",
       "..          ...        ...            ...        ...         ...   \n",
       "95   Product_96  26.487223              4   6.504409  143.278877   \n",
       "96   Product_97  62.786164             32   5.246444  118.066417   \n",
       "97   Product_98  11.809679             10  18.942940  111.983800   \n",
       "98   Product_99  84.604603             11  15.048748  141.742899   \n",
       "99  Product_100  10.422593             28  16.777294  112.102277   \n",
       "\n",
       "    Optimized_Price  \n",
       "0         99.721107  \n",
       "1        121.048712  \n",
       "2         84.476869  \n",
       "3        113.993932  \n",
       "4        148.424660  \n",
       "..              ...  \n",
       "95       143.278877  \n",
       "96       118.066417  \n",
       "97       111.983800  \n",
       "98       141.742899  \n",
       "99       112.102277  \n",
       "\n",
       "[100 rows x 6 columns]"
      ]
     },
     "execution_count": 16,
     "metadata": {},
     "output_type": "execute_result"
    }
   ],
   "source": [
    "Optimized_Data"
   ]
  },
  {
   "cell_type": "code",
   "execution_count": 20,
   "id": "8412e91c",
   "metadata": {},
   "outputs": [],
   "source": [
    "import seaborn as sns"
   ]
  },
  {
   "cell_type": "code",
   "execution_count": 27,
   "id": "5ca61578",
   "metadata": {},
   "outputs": [
    {
     "data": {
      "text/plain": [
       "<Axes: xlabel='Max_Price', ylabel='Optimized_Price'>"
      ]
     },
     "execution_count": 27,
     "metadata": {},
     "output_type": "execute_result"
    },
    {
     "data": {
      "image/png": "[encoded data removed]",
      "text/plain": [
       "<Figure size 640x480 with 1 Axes>"
      ]
     },
     "metadata": {},
     "output_type": "display_data"
    }
   ],
   "source": [
    "sns.scatterplot(data = Optimized_Data, x='Max_Price', y= 'Optimized_Price', hue=None)"
   ]
  },
  {
   "cell_type": "code",
   "execution_count": null,
   "id": "0e71c1cf",
   "metadata": {},
   "outputs": [],
   "source": []
  }
 ],
 "metadata": {
  "kernelspec": {
   "display_name": "Python 3 (ipykernel)",
   "language": "python",
   "name": "python3"
  },
  "language_info": {
   "codemirror_mode": {
    "name": "ipython",
    "version": 3
   },
   "file_extension": ".py",
   "mimetype": "text/x-python",
   "name": "python",
   "nbconvert_exporter": "python",
   "pygments_lexer": "ipython3",
   "version": "3.11.4"
  }
 },
 "nbformat": 4,
 "nbformat_minor": 5
}
